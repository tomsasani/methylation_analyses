{
 "cells": [
  {
   "cell_type": "code",
   "execution_count": 10,
   "metadata": {},
   "outputs": [],
   "source": [
    "import pandas as pd\n",
    "import matplotlib\n",
    "import matplotlib.pyplot as plt\n",
    "import seaborn as sns\n",
    "from collections import defaultdict\n",
    "import numpy as np\n",
    "import scipy.stats as ss\n",
    "plt.rcParams.update({'font.size': 18})"
   ]
  },
  {
   "cell_type": "markdown",
   "metadata": {},
   "source": [
    "Align FASTQ to reference genome.\n",
    "```\n",
    "minimap2 -t 8 -ax map-ont ../../ref/GCA_002057885.1_ASM205788v1_genomic.fna ../fq/combined.meth.fq | sambamba view -S -f bam /dev/stdin | sambamba sort -o combined.meth.bam\n",
    "```\n",
    "Call methylation events.\n",
    "```\n",
    "~/src/nanopolish/nanopolish call-methylation -t 8 -r ../fq/combined.meth.fq -b ../bam/combined.meth.bam -g ../../ref/GCA_002057885.1_ASM205788v1_genomic.fna > meth.tsv\n",
    "```\n",
    "Convert raw methylation calls to per-site frequencies.\n",
    "```\n",
    "~/src/nanopolish/scripts/calculate_methylation_frequency.py -i meth.tsv > meth.frequency.tsv\n",
    "```"
   ]
  },
  {
   "cell_type": "markdown",
   "metadata": {},
   "source": [
    "### Read in TSV files containing summary methylation information\n",
    "\n",
    "Each file contains thousands of rows -- each row summarizes the methylation signal at a particular region of the genome."
   ]
  },
  {
   "cell_type": "code",
   "execution_count": 3,
   "metadata": {},
   "outputs": [],
   "source": [
    "methylation = pd.read_csv('meth.frequency.tsv', sep='\\t')\n",
    "control = pd.read_csv('control.frequency.tsv', sep='\\t')"
   ]
  },
  {
   "cell_type": "markdown",
   "metadata": {},
   "source": [
    "#### Check out the contents of each file"
   ]
  },
  {
   "cell_type": "code",
   "execution_count": 4,
   "metadata": {},
   "outputs": [
    {
     "data": {
      "text/html": [
       "<div>\n",
       "<style scoped>\n",
       "    .dataframe tbody tr th:only-of-type {\n",
       "        vertical-align: middle;\n",
       "    }\n",
       "\n",
       "    .dataframe tbody tr th {\n",
       "        vertical-align: top;\n",
       "    }\n",
       "\n",
       "    .dataframe thead th {\n",
       "        text-align: right;\n",
       "    }\n",
       "</style>\n",
       "<table border=\"1\" class=\"dataframe\">\n",
       "  <thead>\n",
       "    <tr style=\"text-align: right;\">\n",
       "      <th></th>\n",
       "      <th>chromosome</th>\n",
       "      <th>start</th>\n",
       "      <th>end</th>\n",
       "      <th>num_motifs_in_group</th>\n",
       "      <th>called_sites</th>\n",
       "      <th>called_sites_methylated</th>\n",
       "      <th>methylated_frequency</th>\n",
       "      <th>group_sequence</th>\n",
       "    </tr>\n",
       "  </thead>\n",
       "  <tbody>\n",
       "    <tr>\n",
       "      <th>0</th>\n",
       "      <td>chr1</td>\n",
       "      <td>160</td>\n",
       "      <td>164</td>\n",
       "      <td>2</td>\n",
       "      <td>2</td>\n",
       "      <td>0</td>\n",
       "      <td>0.0</td>\n",
       "      <td>TCCCTCGTTCGTATT</td>\n",
       "    </tr>\n",
       "    <tr>\n",
       "      <th>1</th>\n",
       "      <td>chr1</td>\n",
       "      <td>189</td>\n",
       "      <td>189</td>\n",
       "      <td>1</td>\n",
       "      <td>1</td>\n",
       "      <td>0</td>\n",
       "      <td>0.0</td>\n",
       "      <td>CTTACCGTCCT</td>\n",
       "    </tr>\n",
       "    <tr>\n",
       "      <th>2</th>\n",
       "      <td>chr1</td>\n",
       "      <td>209</td>\n",
       "      <td>209</td>\n",
       "      <td>1</td>\n",
       "      <td>1</td>\n",
       "      <td>0</td>\n",
       "      <td>0.0</td>\n",
       "      <td>CACAACGTAAT</td>\n",
       "    </tr>\n",
       "    <tr>\n",
       "      <th>3</th>\n",
       "      <td>chr1</td>\n",
       "      <td>231</td>\n",
       "      <td>231</td>\n",
       "      <td>1</td>\n",
       "      <td>1</td>\n",
       "      <td>0</td>\n",
       "      <td>0.0</td>\n",
       "      <td>CAACTCGATTG</td>\n",
       "    </tr>\n",
       "    <tr>\n",
       "      <th>4</th>\n",
       "      <td>chr1</td>\n",
       "      <td>294</td>\n",
       "      <td>298</td>\n",
       "      <td>2</td>\n",
       "      <td>2</td>\n",
       "      <td>0</td>\n",
       "      <td>0.0</td>\n",
       "      <td>CAACACGCCCGGAGA</td>\n",
       "    </tr>\n",
       "  </tbody>\n",
       "</table>\n",
       "</div>"
      ],
      "text/plain": [
       "  chromosome  start  end  num_motifs_in_group  called_sites  \\\n",
       "0       chr1    160  164                    2             2   \n",
       "1       chr1    189  189                    1             1   \n",
       "2       chr1    209  209                    1             1   \n",
       "3       chr1    231  231                    1             1   \n",
       "4       chr1    294  298                    2             2   \n",
       "\n",
       "   called_sites_methylated  methylated_frequency   group_sequence  \n",
       "0                        0                   0.0  TCCCTCGTTCGTATT  \n",
       "1                        0                   0.0      CTTACCGTCCT  \n",
       "2                        0                   0.0      CACAACGTAAT  \n",
       "3                        0                   0.0      CAACTCGATTG  \n",
       "4                        0                   0.0  CAACACGCCCGGAGA  "
      ]
     },
     "execution_count": 4,
     "metadata": {},
     "output_type": "execute_result"
    }
   ],
   "source": [
    "methylation.head()"
   ]
  },
  {
   "cell_type": "markdown",
   "metadata": {},
   "source": [
    "### Merge the methylation and control files, so that we can access both sets of information at each site\n",
    "\n",
    "Note: this merged file will only include information about sites that had both control and methylation signal."
   ]
  },
  {
   "cell_type": "code",
   "execution_count": 5,
   "metadata": {},
   "outputs": [],
   "source": [
    "# merge the two files by chromosome and position\n",
    "join_keys = ['chromosome', 'start', 'end']\n",
    "merged = pd.merge(methylation, control, left_on=join_keys, right_on=join_keys)\n",
    "\n",
    "# remove extraneous columns from the merged dataframe\n",
    "merged = merged[['chromosome', 'start', 'end', 'called_sites_x', 'methylated_frequency_x',\n",
    "                                               'called_sites_y', 'methylated_frequency_y']]\n",
    "\n",
    "# rename the columns in the merged dataframe to be more readable\n",
    "merged = merged.rename(columns={'called_sites_x':'called_sites_meth',\n",
    "                                'methylated_frequency_x':'methylated_frequency_meth',\n",
    "                                'called_sites_y':'called_sites_control',\n",
    "                                'methylated_frequency_y':'methylated_frequency_control',})"
   ]
  },
  {
   "cell_type": "markdown",
   "metadata": {},
   "source": [
    "### Calculate the \"net methylation signal\" at each site\n",
    "\n",
    "We do this (naively) by subtracting any signal present in the control data from the experimental data. At some sites, for whatever reason, there is more methylation in the control data than there is in the experimental data. We'll remove these sites, as well as any sites where we didn't have at least 10 reads aligned, and sites with more than 100 reads aligned. The latter often indicate pileups of poorly mapped reads."
   ]
  },
  {
   "cell_type": "code",
   "execution_count": 7,
   "metadata": {},
   "outputs": [],
   "source": [
    "merged['methylated_frequency'] = merged['methylated_frequency_meth'] - merged['methylated_frequency_control']\n",
    "merged = merged.query('methylated_frequency > 0 & called_sites_meth > 10 & called_sites_control > 10')\n",
    "merged = merged.query('called_sites_meth < 100 & called_sites_control < 100')"
   ]
  },
  {
   "cell_type": "markdown",
   "metadata": {},
   "source": [
    "### Plot the methylation and control signals across the genome\n",
    "\n",
    "This function accepts two dataframes (i.e., the control and experimental data), and plots the raw methylated frequency of every region on a particular chromosome."
   ]
  },
  {
   "cell_type": "code",
   "execution_count": 11,
   "metadata": {},
   "outputs": [
    {
     "data": {
      "image/png": "[encoded data removed]",
      "text/plain": [
       "<Figure size 1440x720 with 1 Axes>"
      ]
     },
     "metadata": {
      "needs_background": "light"
     },
     "output_type": "display_data"
    }
   ],
   "source": [
    "def basic_plot(df1, df2=None, chrom='chr1', key='methylated_frequency'):\n",
    "    f, ax = plt.subplots(figsize=(20,10))\n",
    "\n",
    "    colors = {0:'firebrick', 1:'dodgerblue'}\n",
    "    for i,df in enumerate((df1, df2)):\n",
    "        if df is None: continue\n",
    "        df = df[df['chromosome'] == chrom]\n",
    "        sns.scatterplot(x=\"start\", y=key, data=df, ax=ax, color=colors[i])\n",
    "    \n",
    "basic_plot(merged, chrom='chr1')"
   ]
  },
  {
   "cell_type": "markdown",
   "metadata": {},
   "source": [
    "### Plot mean methylation frequencies in bins across the genome\n",
    "\n",
    "Rather than plotting raw signal, we can instead bin the raw signals and average within each bin. "
   ]
  },
  {
   "cell_type": "code",
   "execution_count": 1,
   "metadata": {},
   "outputs": [
    {
     "ename": "NameError",
     "evalue": "name 'plt' is not defined",
     "output_type": "error",
     "traceback": [
      "\u001b[0;31m---------------------------------------------------------------------------\u001b[0m",
      "\u001b[0;31mNameError\u001b[0m                                 Traceback (most recent call last)",
      "\u001b[0;32m<ipython-input-1-1a110cab5235>\u001b[0m in \u001b[0;36m<module>\u001b[0;34m()\u001b[0m\n\u001b[1;32m     39\u001b[0m     \u001b[0;32mreturn\u001b[0m \u001b[0mx_vals\u001b[0m\u001b[0;34m,\u001b[0m \u001b[0my_vals\u001b[0m\u001b[0;34m,\u001b[0m \u001b[0mstd\u001b[0m\u001b[0;34m\u001b[0m\u001b[0m\n\u001b[1;32m     40\u001b[0m \u001b[0;34m\u001b[0m\u001b[0m\n\u001b[0;32m---> 41\u001b[0;31m \u001b[0mf\u001b[0m\u001b[0;34m,\u001b[0m \u001b[0max\u001b[0m \u001b[0;34m=\u001b[0m \u001b[0mplt\u001b[0m\u001b[0;34m.\u001b[0m\u001b[0msubplots\u001b[0m\u001b[0;34m(\u001b[0m\u001b[0mfigsize\u001b[0m\u001b[0;34m=\u001b[0m\u001b[0;34m(\u001b[0m\u001b[0;36m25\u001b[0m\u001b[0;34m,\u001b[0m\u001b[0;36m10\u001b[0m\u001b[0;34m)\u001b[0m\u001b[0;34m)\u001b[0m\u001b[0;34m\u001b[0m\u001b[0m\n\u001b[0m\u001b[1;32m     42\u001b[0m \u001b[0;34m\u001b[0m\u001b[0m\n\u001b[1;32m     43\u001b[0m \u001b[0;31m# the chromosome we want to look at\u001b[0m\u001b[0;34m\u001b[0m\u001b[0;34m\u001b[0m\u001b[0m\n",
      "\u001b[0;31mNameError\u001b[0m: name 'plt' is not defined"
     ]
    }
   ],
   "source": [
    "def mean_signal_per_window(sites_signal, max_pos=1, window_size=1000):\n",
    "    \"\"\"\n",
    "    mean signal in non-overlapping windows \n",
    "    of specified size\n",
    "    \n",
    "    sites_signal: list of tuples formatted like (site, signal)\n",
    "    max_pos: the last chromosomal position at which an event was recorded \n",
    "    window_size: desired size of windows to bin signals\n",
    "    \"\"\"\n",
    "    import numpy as np\n",
    "    # generate windows of the specified size\n",
    "    windows = np.arange(0, max_pos, window_size)\n",
    "    window_counts = defaultdict(list)\n",
    "    # loop over every methylated site and catalog its \n",
    "    # window number, along with the signal at that site\n",
    "    for s in sites_signal:\n",
    "        bin_index = int(np.digitize(s[0], windows))\n",
    "        window_counts[bin_index * window_size].append(s[1])\n",
    "    return sorted(window_counts.items())\n",
    "\n",
    "def bin_data(df, chrom='chr8', window_size=1):\n",
    "    \"\"\"\n",
    "    given a dataframe, subset to the chromosome of interest\n",
    "    and calculate the median signal per window\n",
    "    \"\"\"\n",
    "    # filter to only include the chromosome of interest\n",
    "    df = df[df['chromosome'] == chrom]\n",
    "    # get arrays of positions and signals at those positions\n",
    "    sites, signal = df['start'].values, df['methylated_frequency'].values\n",
    "    # divide the data into `n_windows` and find the positions\n",
    "    # that separate those windows (`edges`)\n",
    "    max_pos = max(sites)    \n",
    "    sites_signal = zip(sites, signal)\n",
    "    # calculate the mean signal per window\n",
    "    mean_signal = mean_signal_per_window(sites_signal, max_pos=max_pos, window_size=window_size)\n",
    "    x_vals = np.array([x[0] for x in mean_signal])\n",
    "    y_vals = np.array([np.mean(x[1]) for x in mean_signal])\n",
    "    std = np.array([np.std([x[1]]) for x in mean_signal])\n",
    "    return x_vals, y_vals, std\n",
    "\n",
    "f, ax = plt.subplots(figsize=(25,10))\n",
    "\n",
    "# the chromosome we want to look at\n",
    "chrom = 'chr4'\n",
    "\n",
    "# the desired window size\n",
    "window_size = 5000\n",
    "\n",
    "# data to plot\n",
    "df = merged\n",
    "\n",
    "# get the bin coordinates and mean signal per bin\n",
    "meth_x, meth_y, meth_std = bin_data(df, chrom=chrom, window_size=window_size)\n",
    "\n",
    "# plot the mean methylation signal in each window, and indicate the positions where\n",
    "# there is an \"enrichment\" of methylation signal (z-score of methylation signal is > 2.5)\n",
    "sig_points = np.where(abs(ss.zscore(meth_y)) > 2.5)\n",
    "ax.errorbar(meth_x, meth_y, yerr=meth_std, color=\"dodgerblue\", label=\"methylation\", lw=3, elinewidth=1., capsize=2)\n",
    "ax.scatter(meth_x[sig_points], meth_y[sig_points], color='firebrick')\n",
    "\n",
    "ax.legend(loc=\"upper left\")\n",
    "ax.set_ylabel(\"Mean methylation frequency (+/- STD)\")\n",
    "ax.set_xlabel(\"Position in chromosome (bp)\")"
   ]
  },
  {
   "cell_type": "code",
   "execution_count": null,
   "metadata": {},
   "outputs": [],
   "source": []
  },
  {
   "cell_type": "code",
   "execution_count": null,
   "metadata": {},
   "outputs": [],
   "source": []
  }
 ],
 "metadata": {
  "kernelspec": {
   "display_name": "Python 2",
   "language": "python",
   "name": "python2"
  },
  "language_info": {
   "codemirror_mode": {
    "name": "ipython",
    "version": 2
   },
   "file_extension": ".py",
   "mimetype": "text/x-python",
   "name": "python",
   "nbconvert_exporter": "python",
   "pygments_lexer": "ipython2",
   "version": "2.7.15"
  }
 },
 "nbformat": 4,
 "nbformat_minor": 2
}
