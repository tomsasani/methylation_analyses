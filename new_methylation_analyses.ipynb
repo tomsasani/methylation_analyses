{
 "cells": [
  {
   "cell_type": "code",
   "execution_count": null,
   "metadata": {},
   "outputs": [],
   "source": [
    "import pandas as pd\n",
    "import matplotlib\n",
    "import matplotlib.pyplot as plt\n",
    "import seaborn as sns\n",
    "from collections import defaultdict\n",
    "import numpy as np\n",
    "import scipy.stats as ss\n",
    "plt.rcParams.update({'font.size': 18})"
   ]
  },
  {
   "cell_type": "markdown",
   "metadata": {},
   "source": [
    "Align FASTQ to reference genome.\n",
    "```\n",
    "minimap2 -t 8 -ax map-ont ../../ref/GCA_002057885.1_ASM205788v1_genomic.fna ../fq/combined.meth.fq | sambamba view -S -f bam /dev/stdin | sambamba sort -o combined.meth.bam\n",
    "```\n",
    "Call methylation events.\n",
    "```\n",
    "~/src/nanopolish/nanopolish call-methylation -t 8 -r ../fq/combined.meth.fq -b ../bam/combined.meth.bam -g ../../ref/GCA_002057885.1_ASM205788v1_genomic.fna > meth.tsv\n",
    "```\n",
    "Convert raw methylation calls to per-site frequencies.\n",
    "```\n",
    "~/src/nanopolish/scripts/calculate_methylation_frequency.py -i meth.tsv > meth.frequency.tsv\n",
    "```"
   ]
  },
  {
   "cell_type": "markdown",
   "metadata": {},
   "source": [
    "### Read in TSV files containing summary methylation information\n",
    "\n",
    "Each file contains thousands of rows -- each row summarizes the methylation signal at a particular region of the genome."
   ]
  },
  {
   "cell_type": "code",
   "execution_count": null,
   "metadata": {},
   "outputs": [],
   "source": [
    "methylation = pd.read_csv('data/meth.frequency.tsv', sep='\\t')\n",
    "control = pd.read_csv('data/control.frequency.tsv', sep='\\t')"
   ]
  },
  {
   "cell_type": "markdown",
   "metadata": {},
   "source": [
    "#### Check out the contents of each file\n",
    "\n",
    "`called_sites`: number of reads aligned to that position\n",
    "`called_sites_methylated`: number of reads supporting the methylation event"
   ]
  },
  {
   "cell_type": "code",
   "execution_count": null,
   "metadata": {},
   "outputs": [],
   "source": [
    "methylation.head()"
   ]
  },
  {
   "cell_type": "code",
   "execution_count": null,
   "metadata": {},
   "outputs": [],
   "source": [
    "control.head()"
   ]
  },
  {
   "cell_type": "markdown",
   "metadata": {},
   "source": [
    "### Merge the methylation and control files, so that we can access both sets of information at each site\n",
    "\n",
    "Note: this merged file will only include information about sites that had both control and methylation signal."
   ]
  },
  {
   "cell_type": "code",
   "execution_count": null,
   "metadata": {},
   "outputs": [],
   "source": [
    "# merge the two files by chromosome and position\n",
    "join_keys = ['chromosome', 'start', 'end']\n",
    "merged = pd.merge(methylation, control, left_on=join_keys, right_on=join_keys)\n",
    "\n",
    "# remove extraneous columns from the merged dataframe\n",
    "merged = merged[['chromosome', 'start', 'end', 'called_sites_x', 'methylated_frequency_x',\n",
    "                                               'called_sites_y', 'methylated_frequency_y']]\n",
    "\n",
    "# rename the columns in the merged dataframe to be more readable\n",
    "merged = merged.rename(columns={'called_sites_x':'called_sites_meth',\n",
    "                                'methylated_frequency_x':'methylated_frequency_meth',\n",
    "                                'called_sites_y':'called_sites_control',\n",
    "                                'methylated_frequency_y':'methylated_frequency_control',})"
   ]
  },
  {
   "cell_type": "code",
   "execution_count": null,
   "metadata": {},
   "outputs": [],
   "source": [
    "merged.head()"
   ]
  },
  {
   "cell_type": "markdown",
   "metadata": {},
   "source": [
    "### Calculate the \"net methylation signal\" at each site\n",
    "\n",
    "We do this (naively) by subtracting any signal present in the control data from the experimental data. At some sites, for whatever reason, there is more methylation in the control data than there is in the experimental data. We'll remove these sites, as well as any sites where we didn't have at least 10 reads aligned, and sites with more than 100 reads aligned. The latter often indicate pileups of poorly mapped reads."
   ]
  },
  {
   "cell_type": "code",
   "execution_count": null,
   "metadata": {},
   "outputs": [],
   "source": [
    "# calculate net methylation signal\n",
    "merged['methylated_frequency'] = merged['methylated_frequency_meth'] - merged['methylated_frequency_control']\n",
    "# filter to sites with > 0 methylation signal and > 10 reads aligned in both experimental and control samples\n",
    "merged = merged.query('methylated_frequency > 0 & called_sites_meth > 10 & called_sites_control > 10')\n",
    "merged = merged.query('called_sites_meth < 100 & called_sites_control < 100')"
   ]
  },
  {
   "cell_type": "markdown",
   "metadata": {},
   "source": [
    "### Plot the methylation and control signals across the genome\n",
    "\n",
    "This function accepts two dataframes (i.e., the control and experimental data), and plots the raw methylated frequency of every region on a particular chromosome."
   ]
  },
  {
   "cell_type": "code",
   "execution_count": null,
   "metadata": {},
   "outputs": [],
   "source": [
    "def basic_plot(df1, df2=None, chrom='chr1', key='methylated_frequency'):\n",
    "    f, ax = plt.subplots(figsize=(20,10))\n",
    "\n",
    "    colors = {0:'firebrick', 1:'dodgerblue'}\n",
    "    for i,df in enumerate((df1, df2)):\n",
    "        if df is None: continue\n",
    "        df = df[df['chromosome'] == chrom]\n",
    "        sns.scatterplot(x=\"start\", y=key, data=df, ax=ax, color=colors[i])\n",
    "    \n",
    "basic_plot(merged, chrom='chr1')"
   ]
  },
  {
   "cell_type": "markdown",
   "metadata": {},
   "source": [
    "### Plot mean methylation frequencies in bins across the genome\n",
    "\n",
    "Rather than plotting raw signal, we can instead bin the raw signals and average within each bin. "
   ]
  },
  {
   "cell_type": "code",
   "execution_count": null,
   "metadata": {},
   "outputs": [],
   "source": [
    "def mean_signal_per_window(sites_signal, max_pos=1, window_size=1000):\n",
    "    \"\"\"\n",
    "    mean signal in non-overlapping windows \n",
    "    of specified size\n",
    "    \n",
    "    sites_signal: list of tuples formatted like (site, signal)\n",
    "    max_pos: the last chromosomal position at which an event was recorded \n",
    "    window_size: desired size of windows to bin signals\n",
    "    \"\"\"\n",
    "    import numpy as np\n",
    "    # generate windows of the specified size\n",
    "    windows = np.arange(0, max_pos, window_size)\n",
    "    window_counts = defaultdict(list)\n",
    "    # loop over every methylated site and catalog its \n",
    "    # window number, along with the signal at that site\n",
    "    for s in sites_signal:\n",
    "        bin_index = int(np.digitize(s[0], windows))\n",
    "        window_counts[bin_index * window_size].append(s[1])\n",
    "    return sorted(window_counts.items())\n",
    "\n",
    "def bin_data(df, chrom='chr8', window_size=1):\n",
    "    \"\"\"\n",
    "    given a dataframe, subset to the chromosome of interest\n",
    "    and calculate the median signal per window\n",
    "    \"\"\"\n",
    "    # filter to only include the chromosome of interest\n",
    "    df = df[df['chromosome'] == chrom]\n",
    "    # get arrays of positions and signals at those positions\n",
    "    sites, signal = df['start'].values, df['methylated_frequency'].values\n",
    "    # divide the data into `n_windows` and find the positions\n",
    "    # that separate those windows (`edges`)\n",
    "    max_pos = max(sites)    \n",
    "    sites_signal = zip(sites, signal)\n",
    "    # calculate the mean signal per window\n",
    "    mean_signal = mean_signal_per_window(sites_signal, max_pos=max_pos, window_size=window_size)\n",
    "    x_vals = np.array([x[0] for x in mean_signal])\n",
    "    y_vals = np.array([np.mean(x[1]) for x in mean_signal])\n",
    "    std = np.array([np.std([x[1]]) for x in mean_signal])\n",
    "    return x_vals, y_vals, std\n",
    "\n",
    "f, ax = plt.subplots(figsize=(25,10))\n",
    "\n",
    "# the chromosome we want to look at\n",
    "chrom = 'chr1'\n",
    "\n",
    "# the desired window size\n",
    "window_size = 5000\n",
    "\n",
    "# data to plot\n",
    "df = merged\n",
    "\n",
    "# get the bin coordinates and mean signal per bin\n",
    "meth_x, meth_y, meth_std = bin_data(df, chrom=chrom, window_size=window_size)\n",
    "\n",
    "# plot the mean methylation signal in each window, and indicate the positions where\n",
    "# there is an \"enrichment\" of methylation signal (z-score of methylation signal is > 2.5)\n",
    "sig_points = np.where(abs(ss.zscore(meth_y)) > 2.5)\n",
    "ax.errorbar(meth_x, meth_y, yerr=meth_std, color=\"dodgerblue\", label=\"methylation\", lw=3, elinewidth=1., capsize=2)\n",
    "ax.scatter(meth_x[sig_points], meth_y[sig_points], color='firebrick')\n",
    "\n",
    "ax.legend(loc=\"upper left\")\n",
    "ax.set_ylabel(\"Mean methylation frequency (+/- STD)\")\n",
    "ax.set_xlabel(\"Position in chromosome (bp)\")"
   ]
  },
  {
   "cell_type": "code",
   "execution_count": null,
   "metadata": {},
   "outputs": [],
   "source": []
  }
 ],
 "metadata": {
  "kernelspec": {
   "display_name": "Python 2",
   "language": "python",
   "name": "python2"
  },
  "language_info": {
   "codemirror_mode": {
    "name": "ipython",
    "version": 2
   },
   "file_extension": ".py",
   "mimetype": "text/x-python",
   "name": "python",
   "nbconvert_exporter": "python",
   "pygments_lexer": "ipython2",
   "version": "2.7.15"
  }
 },
 "nbformat": 4,
 "nbformat_minor": 2
}
